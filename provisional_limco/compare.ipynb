{
 "metadata": {
  "language_info": {
   "codemirror_mode": {
    "name": "ipython",
    "version": 3
   },
   "file_extension": ".py",
   "mimetype": "text/x-python",
   "name": "python",
   "nbconvert_exporter": "python",
   "pygments_lexer": "ipython3",
   "version": "3.8.8"
  },
  "orig_nbformat": 4,
  "kernelspec": {
   "name": "python3",
   "display_name": "Python 3.8.8 64-bit ('base': conda)"
  },
  "interpreter": {
   "hash": "8479c18a240fe6377606edf314d34d4695e22aa3d07c9cc35ed68a172a35e609"
  }
 },
 "nbformat": 4,
 "nbformat_minor": 2,
 "cells": [
  {
   "source": [
    "# tokenについてmecabとspacy/ginzaの比較"
   ],
   "cell_type": "markdown",
   "metadata": {}
  },
  {
   "cell_type": "code",
   "execution_count": 2,
   "metadata": {},
   "outputs": [],
   "source": [
    "from collections import Counter\n",
    "import os\n",
    "import re\n",
    "from typing import List, Tuple, Dict, Union\n",
    "import unicodedata as ud\n",
    "\n",
    "import fire\n",
    "import pandas as pd\n",
    "import numpy as np\n",
    "Num = Union[int, float]\n",
    "STOPPOS_JP = [\"形容動詞語幹\", \"副詞可能\", \"代名詞\", \"ナイ形容詞語幹\", \"特殊\", \"数\", \"接尾\", \"非自立\"]"
   ]
  },
  {
   "cell_type": "code",
   "execution_count": 28,
   "metadata": {},
   "outputs": [],
   "source": [
    "with open(os.path.expanduser(\"/Users/itaru-ot/Documents/ra_provisional/provisional_limco/stopwords_jp.txt\"), \"r\") as f:\n",
    "    STOPWORDS_JP = [line.strip() for line in f]\n",
    "STOPPOS_JP = [\"形容動詞語幹\", \"副詞可能\", \"代名詞\", \"ナイ形容詞語幹\", \"特殊\", \"数\", \"接尾\", \"非自立\"]\n",
    "\n",
    "with open(os.path.expanduser(\"/Users/itaru-ot/Documents/ra_provisional/provisional_limco/AWD-J_EX.txt\"), \"r\") as f:\n",
    "    rows = [line.strip().split(\"\\t\") for line in f]\n",
    "    AWD = {word: score for word, score, _, _ in rows}\n",
    "DF_jiwc = pd.read_csv(os.path.expanduser(\"/Users/itaru-ot/Documents/ra_provisional/provisional_limco/2017-11-JIWC.csv\"), index_col=1).drop(\n",
    "    columns=\"Unnamed: 0\"\n",
    ")"
   ]
  },
  {
   "cell_type": "code",
   "execution_count": 3,
   "metadata": {},
   "outputs": [],
   "source": [
    "from natto import MeCab\n",
    "NM = MeCab()  # NOTE: assume IPADIC\n",
    "NMN = MeCab(\"-d /usr/local/lib/mecab/dic/mecab-ipadic-neologd\")"
   ]
  },
  {
   "cell_type": "code",
   "execution_count": 89,
   "metadata": {},
   "outputs": [],
   "source": [
    "import spacy\n",
    "import ginza\n",
    "NLP = spacy.load('ja_ginza')"
   ]
  },
  {
   "cell_type": "code",
   "execution_count": 6,
   "metadata": {},
   "outputs": [],
   "source": [
    "text = '吾輩は猫である。名前はまだ無い。'"
   ]
  },
  {
   "cell_type": "code",
   "execution_count": 7,
   "metadata": {},
   "outputs": [],
   "source": [
    "def tokens(text: str) -> np.ndarray:\n",
    "    tokens = [\n",
    "        (n.surface, n.feature.split(\",\"))\n",
    "        for n in NM.parse(text, as_nodes=True)\n",
    "        if not n.is_eos()\n",
    "    ]\n",
    "    return tokens"
   ]
  },
  {
   "cell_type": "code",
   "execution_count": 8,
   "metadata": {},
   "outputs": [
    {
     "output_type": "execute_result",
     "data": {
      "text/plain": [
       "[('吾輩', ['名詞', '代名詞', '一般', '*', '*', '*', '吾輩', 'ワガハイ', 'ワガハイ']),\n",
       " ('は', ['助詞', '係助詞', '*', '*', '*', '*', 'は', 'ハ', 'ワ']),\n",
       " ('猫', ['名詞', '一般', '*', '*', '*', '*', '猫', 'ネコ', 'ネコ']),\n",
       " ('で', ['助動詞', '*', '*', '*', '特殊・ダ', '連用形', 'だ', 'デ', 'デ']),\n",
       " ('ある', ['助動詞', '*', '*', '*', '五段・ラ行アル', '基本形', 'ある', 'アル', 'アル']),\n",
       " ('。', ['記号', '句点', '*', '*', '*', '*', '。', '。', '。']),\n",
       " ('名前', ['名詞', '一般', '*', '*', '*', '*', '名前', 'ナマエ', 'ナマエ']),\n",
       " ('は', ['助詞', '係助詞', '*', '*', '*', '*', 'は', 'ハ', 'ワ']),\n",
       " ('まだ', ['副詞', '助詞類接続', '*', '*', '*', '*', 'まだ', 'マダ', 'マダ']),\n",
       " ('無い', ['形容詞', '自立', '*', '*', '形容詞・アウオ段', '基本形', '無い', 'ナイ', 'ナイ']),\n",
       " ('。', ['記号', '句点', '*', '*', '*', '*', '。', '。', '。'])]"
      ]
     },
     "metadata": {},
     "execution_count": 8
    }
   ],
   "source": [
    "tokens(text)"
   ]
  },
  {
   "cell_type": "code",
   "execution_count": 142,
   "metadata": {},
   "outputs": [],
   "source": [
    "def tokens_ginza(text: str) -> np.ndarray:\n",
    "    text = text.replace('一\\n\\n　', '')\n",
    "    doc = NLP(text)\n",
    "    tokens = []\n",
    "    for sent in doc.sents:\n",
    "        for token in sent:\n",
    "            token_tag = re.split('[,-]', token.tag_)\n",
    "            token_inflection = re.split('[,-]', ginza.inflection(token))\n",
    "            analysis = token_tag + token_inflection\n",
    "            analysis.append(token.lemma_)\n",
    "            analysis += re.split('[,-]', ginza.reading_form(token))\n",
    "            tuple_ = (token.orth_, analysis)\n",
    "            tokens.append(tuple_)\n",
    "    return tokens"
   ]
  },
  {
   "cell_type": "code",
   "execution_count": 143,
   "metadata": {},
   "outputs": [
    {
     "output_type": "execute_result",
     "data": {
      "text/plain": [
       "[('吾輩', ['代名詞', '', '吾輩', 'ワガハイ']),\n",
       " ('は', ['助詞', '係助詞', '', 'は', 'ハ']),\n",
       " ('猫', ['名詞', '普通名詞', '一般', '', '猫', 'ネコ']),\n",
       " ('で', ['助動詞', '助動詞', 'ダ', '連用形', '一般', 'だ', 'デ']),\n",
       " ('ある', ['動詞', '非自立可能', '五段', 'ラ行', '終止形', '一般', 'ある', 'アル']),\n",
       " ('。', ['補助記号', '句点', '', '。', '。']),\n",
       " ('名前', ['名詞', '普通名詞', '一般', '', '名前', 'ナマエ']),\n",
       " ('は', ['助詞', '係助詞', '', 'は', 'ハ']),\n",
       " ('まだ', ['副詞', '', 'まだ', 'マダ']),\n",
       " ('無い', ['形容詞', '非自立可能', '形容詞', '終止形', '一般', '無い', 'ナイ']),\n",
       " ('。', ['補助記号', '句点', '', '。', '。'])]"
      ]
     },
     "metadata": {},
     "execution_count": 143
    }
   ],
   "source": [
    "tokens_ginza(text)"
   ]
  },
  {
   "cell_type": "code",
   "execution_count": 75,
   "metadata": {},
   "outputs": [],
   "source": [
    "def measure_pos(text: str) -> np.ndarray:\n",
    "    tokens = [\n",
    "        (n.surface, n.feature.split(\",\"))\n",
    "        for n in NM.parse(text, as_nodes=True)\n",
    "        if not n.is_eos()\n",
    "    ]\n",
    "    # print(tokens)\n",
    "\n",
    "    # VERB RELATED MEASURES\n",
    "    verbs = [token for token in tokens if token[1][0] == \"動詞\"]\n",
    "    # TODO: 助動詞との連語も含める？\n",
    "    # lens_verb = [len(verb) for verb in verbs]\n",
    "\n",
    "    # CONTENT WORDS RATIO\n",
    "    nouns = [token for token in tokens if token[1][0] == \"名詞\"]\n",
    "    adjcs = [token for token in tokens if token[1][0] == \"形容詞\"]\n",
    "    content_words = verbs + nouns + adjcs\n",
    "    cwr_simple = np.divide(len(content_words), len(tokens))\n",
    "    cwr_advance = np.divide(\n",
    "        len(\n",
    "            [\n",
    "                token\n",
    "                for token in content_words\n",
    "                if (token[1][1] not in STOPPOS_JP) and (token[0] not in STOPWORDS_JP)\n",
    "            ]\n",
    "        ),\n",
    "        len(tokens),\n",
    "    )\n",
    "\n",
    "    # Modifying words and verb ratio (MVR)\n",
    "    advbs = [token for token in tokens if token[1][0] == \"副詞\"]\n",
    "    padjs = [token for token in tokens if token[1][0] == \"連体詞\"]\n",
    "    mvr = np.divide(len(adjcs + advbs + padjs), len(verbs))\n",
    "\n",
    "    # NER\n",
    "    ners = [token for token in tokens if token[1][1] == \"固有名詞\"]\n",
    "    nerr = np.divide(len(ners), len(tokens))\n",
    "\n",
    "    # TTR\n",
    "    ttrs = 0 #calc_ttrs(tokens)\n",
    "\n",
    "    return verbs, nouns, adjcs, content_words, cwr_simple, cwr_advance, advbs, mvr, padjs, nerr, ttrs"
   ]
  },
  {
   "cell_type": "code",
   "execution_count": 144,
   "metadata": {},
   "outputs": [],
   "source": [
    "def measure_pos_ginza(text: str) -> np.ndarray:\n",
    "    doc = NLP(text.replace('一\\n\\n　', ''))\n",
    "    tokens = []\n",
    "    for sent in doc.sents:\n",
    "        for token in sent:\n",
    "            token_tag = re.split('[,-]', token.tag_)\n",
    "            token_inflection = re.split('[,-]', ginza.inflection(token))\n",
    "            analysis = token_tag + token_inflection\n",
    "            analysis.append(token.lemma_)\n",
    "            analysis += re.split('[,-]', ginza.reading_form(token))\n",
    "            tuple_ = (token.orth_, analysis)\n",
    "            tokens.append(tuple_)\n",
    "    \n",
    "    # VERB RELATED MEASURES\n",
    "    verbs = [token for token in tokens if token[1][0] == \"動詞\"]\n",
    "    \n",
    "    # CONTENT WORDS RATIO\n",
    "    nouns = []\n",
    "    for token in tokens:\n",
    "        match = re.search(r\"名詞$\", token[1][0])\n",
    "        if match is not None:\n",
    "            nouns.append(token)\n",
    "    adjcs = [token for token in tokens if token[1][0] == \"形容詞\"]\n",
    "    content_words = verbs + nouns + adjcs\n",
    "    cwr_simple = np.divide(len(content_words), len(tokens))\n",
    "    cwr_advance = np.divide(\n",
    "        len(\n",
    "            [\n",
    "                token\n",
    "                for token in content_words\n",
    "                if (token[1][1] not in STOPPOS_JP) and (token[0] not in STOPWORDS_JP)\n",
    "            ]\n",
    "        ),\n",
    "        len(tokens),\n",
    "    )\n",
    "\n",
    "    # Modifying words and verb ratio (MVR)\n",
    "    advbs = [token for token in tokens if token[1][0] == \"副詞\"]\n",
    "    padjs = [token for token in tokens if token[1][0] == \"連体詞\"]\n",
    "    mvr = np.divide(len(adjcs + advbs + padjs), len(verbs))\n",
    "\n",
    "    # NER\n",
    "    ners = [token for token in tokens if token[1][1] == \"固有名詞\"]\n",
    "    nerr = np.divide(len(ners), len(tokens))\n",
    "\n",
    "    # TTR\n",
    "    ttrs = 0 #calc_ttrs(tokens)\n",
    "\n",
    "    return verbs, nouns, adjcs, content_words, cwr_simple, cwr_advance, advbs, mvr, padjs, nerr, ttrs"
   ]
  },
  {
   "cell_type": "code",
   "execution_count": 76,
   "metadata": {},
   "outputs": [
    {
     "output_type": "stream",
     "name": "stderr",
     "text": [
      "<ipython-input-75-dbef9fd9f4dc>:33: RuntimeWarning: divide by zero encountered in true_divide\n  mvr = np.divide(len(adjcs + advbs + padjs), len(verbs))\n"
     ]
    },
    {
     "output_type": "execute_result",
     "data": {
      "text/plain": [
       "([],\n",
       " [('吾輩', ['名詞', '代名詞', '一般', '*', '*', '*', '吾輩', 'ワガハイ', 'ワガハイ']),\n",
       "  ('猫', ['名詞', '一般', '*', '*', '*', '*', '猫', 'ネコ', 'ネコ']),\n",
       "  ('名前', ['名詞', '一般', '*', '*', '*', '*', '名前', 'ナマエ', 'ナマエ'])],\n",
       " [('無い', ['形容詞', '自立', '*', '*', '形容詞・アウオ段', '基本形', '無い', 'ナイ', 'ナイ'])],\n",
       " [('吾輩', ['名詞', '代名詞', '一般', '*', '*', '*', '吾輩', 'ワガハイ', 'ワガハイ']),\n",
       "  ('猫', ['名詞', '一般', '*', '*', '*', '*', '猫', 'ネコ', 'ネコ']),\n",
       "  ('名前', ['名詞', '一般', '*', '*', '*', '*', '名前', 'ナマエ', 'ナマエ']),\n",
       "  ('無い', ['形容詞', '自立', '*', '*', '形容詞・アウオ段', '基本形', '無い', 'ナイ', 'ナイ'])],\n",
       " 0.36363636363636365,\n",
       " 0.18181818181818182,\n",
       " [('まだ', ['副詞', '助詞類接続', '*', '*', '*', '*', 'まだ', 'マダ', 'マダ'])],\n",
       " inf,\n",
       " [],\n",
       " 0.0,\n",
       " 0)"
      ]
     },
     "metadata": {},
     "execution_count": 76
    }
   ],
   "source": [
    "measure_pos(text)"
   ]
  },
  {
   "cell_type": "code",
   "execution_count": 145,
   "metadata": {},
   "outputs": [
    {
     "output_type": "execute_result",
     "data": {
      "text/plain": [
       "([('ある', ['動詞', '非自立可能', '五段', 'ラ行', '終止形', '一般', 'ある', 'アル'])],\n",
       " [('吾輩', ['代名詞', '', '吾輩', 'ワガハイ']),\n",
       "  ('猫', ['名詞', '普通名詞', '一般', '', '猫', 'ネコ']),\n",
       "  ('名前', ['名詞', '普通名詞', '一般', '', '名前', 'ナマエ'])],\n",
       " [('無い', ['形容詞', '非自立可能', '形容詞', '終止形', '一般', '無い', 'ナイ'])],\n",
       " [('ある', ['動詞', '非自立可能', '五段', 'ラ行', '終止形', '一般', 'ある', 'アル']),\n",
       "  ('吾輩', ['代名詞', '', '吾輩', 'ワガハイ']),\n",
       "  ('猫', ['名詞', '普通名詞', '一般', '', '猫', 'ネコ']),\n",
       "  ('名前', ['名詞', '普通名詞', '一般', '', '名前', 'ナマエ']),\n",
       "  ('無い', ['形容詞', '非自立可能', '形容詞', '終止形', '一般', '無い', 'ナイ'])],\n",
       " 0.45454545454545453,\n",
       " 0.2727272727272727,\n",
       " [('まだ', ['副詞', '', 'まだ', 'マダ'])],\n",
       " 2.0,\n",
       " [],\n",
       " 0.0,\n",
       " 0)"
      ]
     },
     "metadata": {},
     "execution_count": 145
    }
   ],
   "source": [
    "measure_pos_ginza(text)"
   ]
  }
 ]
}