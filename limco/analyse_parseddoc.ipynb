{
 "cells": [
  {
   "cell_type": "code",
   "execution_count": null,
   "source": [
    "# 構文解析ベースの統計量\n",
    "# import numpy as np\n",
    "from typing import List\n",
    "import fire\n",
    "import pandas as pd"
   ],
   "outputs": [],
   "metadata": {}
  },
  {
   "cell_type": "code",
   "execution_count": null,
   "source": [
    "class Chunk:\n",
    "    def __init__(self):\n",
    "        self.morphs = []\n",
    "        self.dst = -1\n",
    "        self.srcs = []\n",
    "\n",
    "    # def print_all(self):\n",
    "    # return self.morphs + \"\\t\" + self.dst + \", \" + self.srcs\n",
    "\n",
    "    def __repr__(self):\n",
    "        if self.morphs:\n",
    "            surfs = [morph.surface for morph in self.morphs if morph.pos != \"記号\"]\n",
    "            return \"<Chunk [{}]>\".format(\"|\".join(surfs))\n",
    "        else:\n",
    "            return \"<Chunk []>\"\n",
    "\n",
    "    def include_pos(self, pos):\n",
    "        return pos in [morph.pos for morph in self.morphs]\n",
    "\n",
    "    def morphs_of_pos(self, pos):\n",
    "        return [morph for morph in self.morphs if morph.pos == pos]\n",
    "\n",
    "    def morphs_of_pos1(self, pos1):\n",
    "        return [morph for morph in self.morphs if morph.pos1 == pos1]"
   ],
   "outputs": [],
   "metadata": {}
  },
  {
   "cell_type": "code",
   "execution_count": null,
   "source": [
    "class Morph:\n",
    "    def __init__(self, surface, base, pos, pos1):\n",
    "        self.surface = surface\n",
    "        self.base = base\n",
    "        self.pos = pos\n",
    "        self.pos1 = pos1\n",
    "\n",
    "    def __repr__(self):\n",
    "        return \"<Morph {}>\".format(\n",
    "            self.surface + \"\\t\" + self.base + \", \" + self.pos + \", \" + self.pos1\n",
    "        )"
   ],
   "outputs": [],
   "metadata": {}
  },
  {
   "cell_type": "code",
   "execution_count": null,
   "source": [
    "def read_chunks(cabochafile):\n",
    "    sentences = []\n",
    "    sentence: List[Chunk] = []\n",
    "    for line in cabochafile:\n",
    "        if line == \"EOS\\n\":\n",
    "            for i, c in enumerate(sentence[:-1]):\n",
    "                if c.dst != -1:\n",
    "                    sentence[c.dst].srcs.append(i)\n",
    "                # 係り元は再帰的にとらない\n",
    "\n",
    "            sentences.append(sentence)\n",
    "            # shallow/deep copy\n",
    "            # del sentence[:]  # 参照\n",
    "            sentence = []\n",
    "        elif line[0] == \"*\":\n",
    "            # sentence.append(line)\n",
    "            # if len(sentence) > 0:\n",
    "            # sentence.append(chunk)\n",
    "\n",
    "            chunk = Chunk()\n",
    "            chunk.dst = int(line.split(\" \")[2].strip(\"D\"))\n",
    "            sentence.append(chunk)\n",
    "        else:\n",
    "            surface, feature = line.split(\"\\t\")\n",
    "            features = feature.split(\",\")\n",
    "            morph = Morph(surface, features[6], features[0], features[1])\n",
    "            sentence[-1].morphs.append(morph)\n",
    "\n",
    "    return sentences"
   ],
   "outputs": [],
   "metadata": {}
  },
  {
   "cell_type": "code",
   "execution_count": null,
   "source": [
    "def count_chunk_depth(ix, sentchunk):\n",
    "    if sentchunk[ix].srcs:\n",
    "        return max(\n",
    "            [count_chunk_depth(src, sentchunk) + 1 for src in sentchunk[ix].srcs]\n",
    "        )\n",
    "    else:\n",
    "        return 0"
   ],
   "outputs": [],
   "metadata": {}
  },
  {
   "cell_type": "code",
   "execution_count": null,
   "source": [
    "def count_sent_depth(sentchunk):\n",
    "    if len(sentchunk) == 0:\n",
    "        return 0\n",
    "    else:\n",
    "        root_i = [c.dst for c in sentchunk].index(-1)\n",
    "        return count_chunk_depth(root_i, sentchunk)"
   ],
   "outputs": [],
   "metadata": {}
  },
  {
   "cell_type": "code",
   "execution_count": null,
   "source": [
    "def analyse_dep(cfname: str, fname: str = None) -> None:\n",
    "    \"\"\"Apply dependency tree analyses and concat the original data\"\"\"\n",
    "    with open(cfname, \"r\") as f:\n",
    "        chunk_sents = read_chunks(f)\n",
    "\n",
    "    docs = []\n",
    "    doc = []\n",
    "    for chunk_sent in chunk_sents:\n",
    "        if chunk_sent:\n",
    "            doc.append(chunk_sent)\n",
    "        else:\n",
    "            docs.append(doc)\n",
    "            doc = []\n",
    "\n",
    "    sr_depths = []\n",
    "    sr_leaves = []\n",
    "    sr_chunklen = []\n",
    "    for doc in docs:\n",
    "        depths = [count_sent_depth(sentchunk) for sentchunk in doc]\n",
    "        sr_depths.append(pd.Series(depths).describe().to_frame().T)\n",
    "\n",
    "        n_leaves = [len(sentchunk) for sentchunk in doc]\n",
    "        sr_leaves.append(pd.Series(n_leaves).describe().to_frame().T)\n",
    "\n",
    "        chunklen = [len(chunk.morphs) for sentchunk in doc for chunk in sentchunk]\n",
    "        sr_chunklen.append(pd.Series(chunklen).describe().to_frame().T)\n",
    "\n",
    "    # 構文木の深さ\n",
    "    df_sdep = (\n",
    "        pd.concat(sr_depths)\n",
    "        .reset_index(drop=True)\n",
    "        .rename(columns=lambda x: f\"sdep_{x}\")\n",
    "    )\n",
    "    # 構文木の葉の数（文節数）\n",
    "    df_nleaf = (\n",
    "        pd.concat(sr_leaves)\n",
    "        .reset_index(drop=True)\n",
    "        .rename(columns=lambda x: f\"nleaf_{x}\")\n",
    "    )\n",
    "    # 文節の長さ（形態素数）\n",
    "    df_chklen = (\n",
    "        pd.concat(sr_chunklen)\n",
    "        .reset_index(drop=True)\n",
    "        .rename(columns=lambda x: f\"chklen_{x}\")\n",
    "    )\n",
    "\n",
    "    if fname:\n",
    "        df = pd.read_csv(fname)\n",
    "        assert len(df) == len(df_sdep)\n",
    "        pd.concat([df, df_sdep, df_nleaf, df_chklen], axis=1).to_csv(\n",
    "            f\"{fname}.parsed.csv\", index=False\n",
    "        )\n",
    "    pd.concat([df_sdep, df_nleaf, df_chklen], axis=1).to_csv(\n",
    "        f\"{cfname}.parsed.csv\", index=False\n",
    "    )"
   ],
   "outputs": [],
   "metadata": {}
  },
  {
   "cell_type": "code",
   "execution_count": null,
   "source": [
    "if __name__ == \"__main__\":\n",
    "    fire.Fire(analyse_dep)"
   ],
   "outputs": [],
   "metadata": {}
  },
  {
   "cell_type": "markdown",
   "source": [
    "用意するもの\n",
    "\n",
    "- 空白行のない1行1センテンス\n",
    "- ドキュメントは1つの空白行で分割されます\n",
    "\n",
    "E.g."
   ],
   "metadata": {}
  },
  {
   "cell_type": "code",
   "execution_count": null,
   "source": [
    "import re\n",
    "import pandas as pd\n",
    "\n",
    "import split_sentence  # find a great library to split sentences\n",
    "\n",
    "col = \"column_name\"\n",
    "\n",
    "with open('formatted_text.txt', 'w') as f:\n",
    "    f.writelines(\n",
    "        [\n",
    "            re.sub(\"^$\", \"\", re.sub(\"\\n+\", \"\\n\", re.sub(\"\\s\", \" \", t))) + \"\\n\\n\"\n",
    "            for t in df[col].to_list()\n",
    "        ]\n",
    "    )"
   ],
   "outputs": [],
   "metadata": {}
  },
  {
   "cell_type": "markdown",
   "source": [
    "このとき、`sentence-splitter formatted_text.txt > formatted_text-sentsplit.txt`などと実行すると、`sentence-splitter`が入力されたテキストを、空白行を保持したまま、一行ごとの文章形式に分割します（良い本物のツールを見つける必要があります。英語では `nltk` がその一つです。）\n",
    "\n",
    "実行"
   ],
   "metadata": {}
  },
  {
   "cell_type": "markdown",
   "source": [
    "```\n",
    "cabocha -f1 your_text.txt > your_text.cabocha.txt\n",
    "python analyse_parseddoc.py your_text.cabocha.txt [your_csv.measured.csv]\n",
    "```"
   ],
   "metadata": {}
  },
  {
   "cell_type": "markdown",
   "source": [
    "第2引数に `measure_lang.py` で生成された測定済みの csv ファイルを加えると、`analyse_parseddoc.py` は結果を列ごとに連結します (GNU `paste(1)` のようなものですが、csv 内のエスケープされた複数行のテキストを考慮しています)。"
   ],
   "metadata": {}
  },
  {
   "cell_type": "markdown",
   "source": [
    "- 構文木の深さ (`ap.analyse_dep`):テキストの各文の依存関係ツリーの深さについて計算された記述統計量です。\n",
    "\n",
    "- 文章あたりのチャンク数の平均値 (`ap.analyse_dep`):テキスト中の各文のチャンク数の平均値について計算された記述統計量。\n",
    "\n",
    "- チャンクあたりの単語数の平均値(`ap.analyse_dep`):テキスト中の各チャンクごとの単語数の平均値について計算した記述統計量。"
   ],
   "metadata": {}
  }
 ],
 "metadata": {
  "orig_nbformat": 4,
  "language_info": {
   "name": "python",
   "version": "3.9.6"
  },
  "kernelspec": {
   "name": "python3",
   "display_name": "Python 3.9.6 64-bit ('limco': conda)"
  },
  "interpreter": {
   "hash": "144b6df7c7ca575248860d73cec7f80cd06c55c69386e9891e88fbc11a96701a"
  }
 },
 "nbformat": 4,
 "nbformat_minor": 2
}