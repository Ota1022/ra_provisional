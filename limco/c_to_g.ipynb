{
 "cells": [
  {
   "cell_type": "code",
   "execution_count": 1,
   "source": [
    "import spacy\n",
    "import ginza\n",
    "NLP = spacy.load(\"ja_ginza\")"
   ],
   "outputs": [],
   "metadata": {}
  },
  {
   "cell_type": "code",
   "execution_count": 2,
   "source": [
    "from spacy import displacy"
   ],
   "outputs": [],
   "metadata": {}
  },
  {
   "cell_type": "code",
   "execution_count": 8,
   "source": [
    "import pandas as pd\n",
    "text = pd.read_csv(\"/Users/labimac/Documents/lab/ra_provisional/limco/testdata.csv\")[\"text\"][0]"
   ],
   "outputs": [],
   "metadata": {}
  },
  {
   "cell_type": "code",
   "execution_count": 9,
   "source": [
    "text"
   ],
   "outputs": [
    {
     "output_type": "execute_result",
     "data": {
      "text/plain": [
       "'この街は市内でも最も少子高齢化が進んでいる街として有名だった。'"
      ]
     },
     "metadata": {},
     "execution_count": 9
    }
   ],
   "metadata": {}
  },
  {
   "cell_type": "markdown",
   "source": [
    "[{'i': 0, 'orth': 'この', 'base': 'この', 'head': 1, 'dep': 'det'},  \n",
    " {'i': 1, 'orth': '街', 'base': '街', 'head': 17, 'dep': 'nsubj'},  \n",
    " {'i': 2, 'orth': 'は', 'base': 'は', 'head': 1, 'dep': 'case'},  \n",
    " {'i': 3, 'orth': '市', 'base': '市', 'head': 10, 'dep': 'obl'},  \n",
    " {'i': 4, 'orth': '内', 'base': '内', 'head': 10, 'dep': 'obl'},  \n",
    " {'i': 5, 'orth': 'で', 'base': 'で', 'head': 4, 'dep': 'case'},  \n",
    " {'i': 6, 'orth': 'も', 'base': 'も', 'head': 4, 'dep': 'case'},  \n",
    " {'i': 7, 'orth': '最も', 'base': '最も', 'head': 10, 'dep': 'advmod'},  \n",
    " {'i': 8, 'orth': '少子高齢化', 'base': '少子高齢化', 'head': 10, 'dep': 'nsubj'},  \n",
    " {'i': 9, 'orth': 'が', 'base': 'が', 'head': 8, 'dep': 'case'},  \n",
    " {'i': 10, 'orth': '進ん', 'base': '進む', 'head': 13, 'dep': 'acl'},  \n",
    " {'i': 11, 'orth': 'で', 'base': 'で', 'head': 10, 'dep': 'mark'},  \n",
    " {'i': 12, 'orth': 'いる', 'base': 'いる', 'head': 11, 'dep': 'fixed'},  \n",
    " {'i': 13, 'orth': '街', 'base': '街', 'head': 17, 'dep': 'obl'},  \n",
    " {'i': 14, 'orth': 'と', 'base': 'と', 'head': 13, 'dep': 'case'},  \n",
    " {'i': 15, 'orth': 'し', 'base': 'する', 'head': 14, 'dep': 'fixed'},  \n",
    " {'i': 16, 'orth': 'て', 'base': 'て', 'head': 14, 'dep': 'fixed'},  \n",
    " {'i': 17, 'orth': '有名', 'base': '有名', 'head': 17, 'dep': 'ROOT'},  \n",
    " {'i': 18, 'orth': 'だっ', 'base': 'だ', 'head': 17, 'dep': 'aux'},  \n",
    " {'i': 19, 'orth': 'た', 'base': 'た', 'head': 17, 'dep': 'aux'},  \n",
    " {'i': 20, 'orth': '。', 'base': '。', 'head': 17, 'dep': 'punct'}]"
   ],
   "metadata": {}
  },
  {
   "cell_type": "code",
   "execution_count": 46,
   "source": [
    "class DependencyAnalysis:\n",
    "    def __init__(self):\n",
    "        self.nlp = spacy.load('ja_ginza')\n",
    "        \n",
    "    def run(self, text):\n",
    "        \"\"\"係り受け解析\"\"\"\n",
    "        doc = self.nlp(text)\n",
    "\n",
    "        token_head_list = []\n",
    "        \n",
    "        for sent in doc.sents:\n",
    "            for token in sent:\n",
    "                token_head_list.append({\"i\":token.i, \"orth\":token.orth_, \"base\": token.lemma_, \"head\": token.head.i, \"dep\": token.dep_}) \n",
    "\n",
    "        # displacy.render(doc, style='dep', jupyter=True, options={'distance': 90})\n",
    "\n",
    "        return token_head_list"
   ],
   "outputs": [],
   "metadata": {}
  },
  {
   "cell_type": "code",
   "execution_count": 47,
   "source": [
    "dependency = DependencyAnalysis()\n",
    "dependency.run(text)"
   ],
   "outputs": [
    {
     "output_type": "execute_result",
     "data": {
      "text/plain": [
       "[{'i': 0, 'orth': 'この', 'base': 'この', 'head': 1, 'dep': 'det', 'else': 415},\n",
       " {'i': 1, 'orth': '街', 'base': '街', 'head': 17, 'dep': 'nsubj', 'else': 429},\n",
       " {'i': 2,\n",
       "  'orth': 'は',\n",
       "  'base': 'は',\n",
       "  'head': 1,\n",
       "  'dep': 'case',\n",
       "  'else': 8110129090154140942},\n",
       " {'i': 3, 'orth': '市', 'base': '市', 'head': 10, 'dep': 'obl', 'else': 435},\n",
       " {'i': 4, 'orth': '内', 'base': '内', 'head': 10, 'dep': 'obl', 'else': 435},\n",
       " {'i': 5,\n",
       "  'orth': 'で',\n",
       "  'base': 'で',\n",
       "  'head': 4,\n",
       "  'dep': 'case',\n",
       "  'else': 8110129090154140942},\n",
       " {'i': 6,\n",
       "  'orth': 'も',\n",
       "  'base': 'も',\n",
       "  'head': 4,\n",
       "  'dep': 'case',\n",
       "  'else': 8110129090154140942},\n",
       " {'i': 7,\n",
       "  'orth': '最も',\n",
       "  'base': '最も',\n",
       "  'head': 10,\n",
       "  'dep': 'advmod',\n",
       "  'else': 400},\n",
       " {'i': 8,\n",
       "  'orth': '少子高齢化',\n",
       "  'base': '少子高齢化',\n",
       "  'head': 10,\n",
       "  'dep': 'nsubj',\n",
       "  'else': 429},\n",
       " {'i': 9,\n",
       "  'orth': 'が',\n",
       "  'base': 'が',\n",
       "  'head': 8,\n",
       "  'dep': 'case',\n",
       "  'else': 8110129090154140942},\n",
       " {'i': 10, 'orth': '進ん', 'base': '進む', 'head': 13, 'dep': 'acl', 'else': 451},\n",
       " {'i': 11, 'orth': 'で', 'base': 'で', 'head': 10, 'dep': 'mark', 'else': 423},\n",
       " {'i': 12,\n",
       "  'orth': 'いる',\n",
       "  'base': 'いる',\n",
       "  'head': 11,\n",
       "  'dep': 'fixed',\n",
       "  'else': 341650274070182569},\n",
       " {'i': 13, 'orth': '街', 'base': '街', 'head': 17, 'dep': 'obl', 'else': 435},\n",
       " {'i': 14,\n",
       "  'orth': 'と',\n",
       "  'base': 'と',\n",
       "  'head': 13,\n",
       "  'dep': 'case',\n",
       "  'else': 8110129090154140942},\n",
       " {'i': 15,\n",
       "  'orth': 'し',\n",
       "  'base': 'する',\n",
       "  'head': 14,\n",
       "  'dep': 'fixed',\n",
       "  'else': 341650274070182569},\n",
       " {'i': 16,\n",
       "  'orth': 'て',\n",
       "  'base': 'て',\n",
       "  'head': 14,\n",
       "  'dep': 'fixed',\n",
       "  'else': 341650274070182569},\n",
       " {'i': 17,\n",
       "  'orth': '有名',\n",
       "  'base': '有名',\n",
       "  'head': 17,\n",
       "  'dep': 'ROOT',\n",
       "  'else': 8206900633647566924},\n",
       " {'i': 18, 'orth': 'だっ', 'base': 'だ', 'head': 17, 'dep': 'aux', 'else': 405},\n",
       " {'i': 19, 'orth': 'た', 'base': 'た', 'head': 17, 'dep': 'aux', 'else': 405},\n",
       " {'i': 20, 'orth': '。', 'base': '。', 'head': 17, 'dep': 'punct', 'else': 445}]"
      ]
     },
     "metadata": {},
     "execution_count": 47
    }
   ],
   "metadata": {}
  }
 ],
 "metadata": {
  "orig_nbformat": 4,
  "language_info": {
   "name": "python",
   "version": "3.9.6",
   "mimetype": "text/x-python",
   "codemirror_mode": {
    "name": "ipython",
    "version": 3
   },
   "pygments_lexer": "ipython3",
   "nbconvert_exporter": "python",
   "file_extension": ".py"
  },
  "kernelspec": {
   "name": "python3",
   "display_name": "Python 3.9.6 64-bit ('limco': conda)"
  },
  "interpreter": {
   "hash": "144b6df7c7ca575248860d73cec7f80cd06c55c69386e9891e88fbc11a96701a"
  }
 },
 "nbformat": 4,
 "nbformat_minor": 2
}